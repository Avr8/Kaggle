{
  "nbformat": 4,
  "nbformat_minor": 0,
  "metadata": {
    "colab": {
      "name": "Rock-Paper-Scissor.ipynb",
      "provenance": [],
      "authorship_tag": "ABX9TyOxmvkDzwkFw45WO7CSuXMI",
      "include_colab_link": true
    },
    "kernelspec": {
      "name": "python3",
      "display_name": "Python 3"
    },
    "accelerator": "GPU"
  },
  "cells": [
    {
      "cell_type": "markdown",
      "metadata": {
        "id": "view-in-github",
        "colab_type": "text"
      },
      "source": [
        "<a href=\"https://colab.research.google.com/github/SupreethRao99/Kaggle/blob/master/Rock_Paper_Scissor.ipynb\" target=\"_parent\"><img src=\"https://colab.research.google.com/assets/colab-badge.svg\" alt=\"Open In Colab\"/></a>"
      ]
    },
    {
      "cell_type": "markdown",
      "metadata": {
        "id": "MzKnUUKSmz8o"
      },
      "source": [
        "Today we shall tackle the [rock-paper-scissor](https://www.kaggle.com/drgfreeman/rockpaperscissors/notebooks) dataset from kaggle. the dataset consists of 2188 images of human hands on green backgrounds making hand signs of rock, paper and scissor. We aim to create a multi-class classifier that correctly predicts what symbol the person has shown."
      ]
    },
    {
      "cell_type": "markdown",
      "metadata": {
        "id": "RLMUB0h_nlB-"
      },
      "source": [
        "let us first install all the necessary libraries and set up a pipeline through which we can directly load datasets from [Kaggle](https://kaggle.com)."
      ]
    },
    {
      "cell_type": "code",
      "metadata": {
        "id": "UajunEMIk83W"
      },
      "source": [
        "!pip install kaggle\n",
        "from google.colab import files\n",
        "import os\n",
        "files.upload()"
      ],
      "execution_count": null,
      "outputs": []
    },
    {
      "cell_type": "markdown",
      "metadata": {
        "id": "Ff3wzNTFpbn2"
      },
      "source": [
        "let us now directly load the dataset from kaggle into a directory called `kaggle`"
      ]
    },
    {
      "cell_type": "code",
      "metadata": {
        "id": "Rhca_9FxpORa",
        "outputId": "523e5cd8-cdf4-4a7c-bad2-efd2e26a06db",
        "colab": {
          "base_uri": "https://localhost:8080/",
          "height": 68
        }
      },
      "source": [
        "!mkdir -p ~/.kaggle\n",
        "!cp kaggle.json ~/.kaggle/\n",
        "!chmod 600 ~/.kaggle/kaggle.json\n",
        "!kaggle datasets download -d drgfreeman/rockpaperscissors"
      ],
      "execution_count": 2,
      "outputs": [
        {
          "output_type": "stream",
          "text": [
            "Downloading rockpaperscissors.zip to /content\n",
            " 99% 302M/306M [00:13<00:00, 24.2MB/s]\n",
            "100% 306M/306M [00:13<00:00, 23.9MB/s]\n"
          ],
          "name": "stdout"
        }
      ]
    },
    {
      "cell_type": "markdown",
      "metadata": {
        "id": "euQFwvR5qkIw"
      },
      "source": [
        "Let us now unzip the file into the `/tmp` directory"
      ]
    },
    {
      "cell_type": "code",
      "metadata": {
        "id": "RjIFHLFSqLZ1"
      },
      "source": [
        "import zipfile\n",
        "zip_ref = zipfile.ZipFile('rockpaperscissors.zip','r')\n",
        "zip_ref.extractall('/tmp')\n",
        "zip_ref.close()"
      ],
      "execution_count": 1,
      "outputs": []
    },
    {
      "cell_type": "markdown",
      "metadata": {
        "id": "63twJtAMrdiC"
      },
      "source": [
        "let us now preprocess our images where we create our training samples and validation samples as well as augment the images to further improve our training accuracy."
      ]
    },
    {
      "cell_type": "code",
      "metadata": {
        "id": "qSSKt6Z2r5TU"
      },
      "source": [
        "import tensorflow as tf\n",
        "from tensorflow import keras\n",
        "import numpy as np\n",
        "import matplotlib.pyplot as plt\n",
        "from functools import partial"
      ],
      "execution_count": 2,
      "outputs": []
    },
    {
      "cell_type": "code",
      "metadata": {
        "id": "9P0yNLOVq3Vx",
        "outputId": "3fbae863-c6d3-4d8d-c9b8-10fcc673b935",
        "colab": {
          "base_uri": "https://localhost:8080/",
          "height": 51
        }
      },
      "source": [
        "from tensorflow.keras.preprocessing.image import ImageDataGenerator\n",
        "TRAIN_DIR = '/tmp/rps-cv-images/'\n",
        "train_datagen = ImageDataGenerator(\n",
        "    rescale=1./255,\n",
        "    rotation_range=40,\n",
        "    width_shift_range=0.2,\n",
        "    height_shift_range=0.2,\n",
        "    shear_range=0.2,\n",
        "    zoom_range=0.2,\n",
        "    horizontal_flip=True,\n",
        "    fill_mode='nearest',\n",
        "    validation_split=0.2\n",
        ")\n",
        "\n",
        "train_generator = train_datagen.flow_from_directory(TRAIN_DIR,\n",
        "                                                    batch_size=32,\n",
        "                                                    class_mode='categorical',\n",
        "                                                    target_size=(60,40),\n",
        "                                                    subset='training'\n",
        "                                                  )\n",
        "\n",
        "validation_datagen = ImageDataGenerator(rescale=1./255, validation_split=0.20)\n",
        "\n",
        "validation_generator = validation_datagen.flow_from_directory(TRAIN_DIR,\n",
        "                                                              batch_size=32,\n",
        "                                                              class_mode='categorical',\n",
        "                                                              target_size=(60,40),\n",
        "                                                              subset='validation')"
      ],
      "execution_count": 3,
      "outputs": [
        {
          "output_type": "stream",
          "text": [
            "Found 1751 images belonging to 3 classes.\n",
            "Found 437 images belonging to 3 classes.\n"
          ],
          "name": "stdout"
        }
      ]
    },
    {
      "cell_type": "markdown",
      "metadata": {
        "id": "075hEDLBvTz4"
      },
      "source": [
        "# A barebones convolutional neural network"
      ]
    },
    {
      "cell_type": "code",
      "metadata": {
        "id": "eJsa8xCUs8Ev"
      },
      "source": [
        "import tensorflow as tf\n",
        "tf.keras.backend.clear_session()\n",
        "tf.random.set_seed(42)\n",
        "\n",
        "model = tf.keras.models.Sequential([\n",
        "        tf.keras.layers.Conv2D(32, (5,5), activation='relu', input_shape=(60,40,3)),\n",
        "        tf.keras.layers.MaxPooling2D(2,2),\n",
        "        tf.keras.layers.Conv2D(64, (3,3), activation='relu',padding='same'),\n",
        "        tf.keras.layers.MaxPooling2D(2,2),\n",
        "        tf.keras.layers.Conv2D(128, (3,3), activation='relu',padding='same'),\n",
        "        tf.keras.layers.Flatten(),\n",
        "        tf.keras.layers.Dropout(0.5),\n",
        "        tf.keras.layers.Dense(128, activation='relu'),\n",
        "        tf.keras.layers.Dropout(0.5),\n",
        "        tf.keras.layers.Dense(3,activation='softmax')\n",
        "])"
      ],
      "execution_count": 4,
      "outputs": []
    },
    {
      "cell_type": "code",
      "metadata": {
        "id": "2FLDBzVhyHlo",
        "outputId": "0389b8fe-dcd8-482b-d7c4-5f972a5e6775",
        "colab": {
          "base_uri": "https://localhost:8080/",
          "height": 493
        }
      },
      "source": [
        "model.summary()"
      ],
      "execution_count": 5,
      "outputs": [
        {
          "output_type": "stream",
          "text": [
            "Model: \"sequential\"\n",
            "_________________________________________________________________\n",
            "Layer (type)                 Output Shape              Param #   \n",
            "=================================================================\n",
            "conv2d (Conv2D)              (None, 56, 36, 32)        2432      \n",
            "_________________________________________________________________\n",
            "max_pooling2d (MaxPooling2D) (None, 28, 18, 32)        0         \n",
            "_________________________________________________________________\n",
            "conv2d_1 (Conv2D)            (None, 28, 18, 64)        18496     \n",
            "_________________________________________________________________\n",
            "max_pooling2d_1 (MaxPooling2 (None, 14, 9, 64)         0         \n",
            "_________________________________________________________________\n",
            "conv2d_2 (Conv2D)            (None, 14, 9, 128)        73856     \n",
            "_________________________________________________________________\n",
            "flatten (Flatten)            (None, 16128)             0         \n",
            "_________________________________________________________________\n",
            "dropout (Dropout)            (None, 16128)             0         \n",
            "_________________________________________________________________\n",
            "dense (Dense)                (None, 128)               2064512   \n",
            "_________________________________________________________________\n",
            "dropout_1 (Dropout)          (None, 128)               0         \n",
            "_________________________________________________________________\n",
            "dense_1 (Dense)              (None, 3)                 387       \n",
            "=================================================================\n",
            "Total params: 2,159,683\n",
            "Trainable params: 2,159,683\n",
            "Non-trainable params: 0\n",
            "_________________________________________________________________\n"
          ],
          "name": "stdout"
        }
      ]
    },
    {
      "cell_type": "code",
      "metadata": {
        "id": "348Jc-z1yhIL",
        "outputId": "6ecc5bdd-cd72-488e-9cc5-9d960f128680",
        "colab": {
          "base_uri": "https://localhost:8080/",
          "height": 867
        }
      },
      "source": [
        "model.compile(loss='categorical_crossentropy', optimizer='adam', metrics=['accuracy'])\n",
        "history = model.fit(train_generator, epochs=25,validation_data= validation_generator)"
      ],
      "execution_count": 6,
      "outputs": [
        {
          "output_type": "stream",
          "text": [
            "Epoch 1/25\n",
            "55/55 [==============================] - 6s 100ms/step - loss: 1.0978 - accuracy: 0.3524 - val_loss: 1.0049 - val_accuracy: 0.5812\n",
            "Epoch 2/25\n",
            "55/55 [==============================] - 5s 98ms/step - loss: 0.9405 - accuracy: 0.5431 - val_loss: 0.6177 - val_accuracy: 0.7529\n",
            "Epoch 3/25\n",
            "55/55 [==============================] - 5s 96ms/step - loss: 0.7300 - accuracy: 0.6836 - val_loss: 0.6221 - val_accuracy: 0.7185\n",
            "Epoch 4/25\n",
            "55/55 [==============================] - 5s 96ms/step - loss: 0.6326 - accuracy: 0.7533 - val_loss: 0.3285 - val_accuracy: 0.8902\n",
            "Epoch 5/25\n",
            "55/55 [==============================] - 5s 96ms/step - loss: 0.4845 - accuracy: 0.8144 - val_loss: 0.1667 - val_accuracy: 0.9611\n",
            "Epoch 6/25\n",
            "55/55 [==============================] - 5s 96ms/step - loss: 0.3853 - accuracy: 0.8612 - val_loss: 0.1612 - val_accuracy: 0.9611\n",
            "Epoch 7/25\n",
            "55/55 [==============================] - 5s 96ms/step - loss: 0.3012 - accuracy: 0.8989 - val_loss: 0.0830 - val_accuracy: 0.9725\n",
            "Epoch 8/25\n",
            "55/55 [==============================] - 5s 96ms/step - loss: 0.2364 - accuracy: 0.9189 - val_loss: 0.0668 - val_accuracy: 0.9771\n",
            "Epoch 9/25\n",
            "55/55 [==============================] - 5s 97ms/step - loss: 0.2047 - accuracy: 0.9412 - val_loss: 0.0803 - val_accuracy: 0.9794\n",
            "Epoch 10/25\n",
            "55/55 [==============================] - 5s 98ms/step - loss: 0.2375 - accuracy: 0.9218 - val_loss: 0.0556 - val_accuracy: 0.9863\n",
            "Epoch 11/25\n",
            "55/55 [==============================] - 5s 97ms/step - loss: 0.1880 - accuracy: 0.9366 - val_loss: 0.0428 - val_accuracy: 0.9794\n",
            "Epoch 12/25\n",
            "55/55 [==============================] - 5s 96ms/step - loss: 0.1449 - accuracy: 0.9606 - val_loss: 0.0740 - val_accuracy: 0.9748\n",
            "Epoch 13/25\n",
            "55/55 [==============================] - 5s 96ms/step - loss: 0.1222 - accuracy: 0.9623 - val_loss: 0.0714 - val_accuracy: 0.9748\n",
            "Epoch 14/25\n",
            "55/55 [==============================] - 5s 96ms/step - loss: 0.1722 - accuracy: 0.9395 - val_loss: 0.0501 - val_accuracy: 0.9840\n",
            "Epoch 15/25\n",
            "55/55 [==============================] - 5s 96ms/step - loss: 0.1104 - accuracy: 0.9692 - val_loss: 0.0439 - val_accuracy: 0.9863\n",
            "Epoch 16/25\n",
            "55/55 [==============================] - 5s 96ms/step - loss: 0.1167 - accuracy: 0.9629 - val_loss: 0.0124 - val_accuracy: 0.9954\n",
            "Epoch 17/25\n",
            "55/55 [==============================] - 5s 96ms/step - loss: 0.1130 - accuracy: 0.9663 - val_loss: 0.0268 - val_accuracy: 0.9954\n",
            "Epoch 18/25\n",
            "55/55 [==============================] - 5s 96ms/step - loss: 0.1715 - accuracy: 0.9515 - val_loss: 0.0172 - val_accuracy: 0.9931\n",
            "Epoch 19/25\n",
            "55/55 [==============================] - 5s 96ms/step - loss: 0.0853 - accuracy: 0.9732 - val_loss: 0.0145 - val_accuracy: 0.9954\n",
            "Epoch 20/25\n",
            "55/55 [==============================] - 5s 96ms/step - loss: 0.0876 - accuracy: 0.9732 - val_loss: 0.0227 - val_accuracy: 0.9954\n",
            "Epoch 21/25\n",
            "55/55 [==============================] - 5s 97ms/step - loss: 0.1064 - accuracy: 0.9640 - val_loss: 0.0282 - val_accuracy: 0.9908\n",
            "Epoch 22/25\n",
            "55/55 [==============================] - 5s 96ms/step - loss: 0.1053 - accuracy: 0.9686 - val_loss: 0.0253 - val_accuracy: 0.9908\n",
            "Epoch 23/25\n",
            "55/55 [==============================] - 5s 96ms/step - loss: 0.0623 - accuracy: 0.9806 - val_loss: 0.0250 - val_accuracy: 0.9908\n",
            "Epoch 24/25\n",
            "55/55 [==============================] - 5s 97ms/step - loss: 0.0658 - accuracy: 0.9783 - val_loss: 0.0160 - val_accuracy: 0.9908\n",
            "Epoch 25/25\n",
            "55/55 [==============================] - 5s 98ms/step - loss: 0.0754 - accuracy: 0.9823 - val_loss: 0.0126 - val_accuracy: 0.9954\n"
          ],
          "name": "stdout"
        }
      ]
    },
    {
      "cell_type": "code",
      "metadata": {
        "id": "2IvhFBZSy3xk",
        "outputId": "f8398e76-b187-47dc-9021-dad2b0711f4d",
        "colab": {
          "base_uri": "https://localhost:8080/",
          "height": 562
        }
      },
      "source": [
        "acc      = history.history['accuracy']\n",
        "val_acc  = history.history['val_accuracy']\n",
        "loss     = history.history['loss']\n",
        "val_loss = history.history['val_loss']\n",
        "## Training and Validation Accuracy\n",
        "epochs   = range(len(acc))\n",
        "plt.plot  (epochs, acc)\n",
        "plt.plot  (epochs, val_acc)\n",
        "plt.title ('Training and validation accuracy')\n",
        "plt.figure()\n",
        "## Training and Validation loss\n",
        "plt.plot  (epochs, loss)\n",
        "plt.plot  (epochs, val_loss)\n",
        "plt.title ('Training and validation loss')"
      ],
      "execution_count": 7,
      "outputs": [
        {
          "output_type": "execute_result",
          "data": {
            "text/plain": [
              "Text(0.5, 1.0, 'Training and validation loss')"
            ]
          },
          "metadata": {
            "tags": []
          },
          "execution_count": 7
        },
        {
          "output_type": "display_data",
          "data": {
            "image/png": "[encoded data removed]",
            "text/plain": [
              "<Figure size 432x288 with 1 Axes>"
            ]
          },
          "metadata": {
            "tags": [],
            "needs_background": "light"
          }
        },
        {
          "output_type": "display_data",
          "data": {
            "image/png": "[encoded data removed]",
            "text/plain": [
              "<Figure size 432x288 with 1 Axes>"
            ]
          },
          "metadata": {
            "tags": [],
            "needs_background": "light"
          }
        }
      ]
    },
    {
      "cell_type": "markdown",
      "metadata": {
        "id": "APIJffRw046t"
      },
      "source": [
        "Let us apply performance scheduling to the same model and see the results "
      ]
    },
    {
      "cell_type": "code",
      "metadata": {
        "id": "YHfC7cej1Mub"
      },
      "source": [
        "learning_rate_reduction = tf.keras.callbacks.ReduceLROnPlateau(monitor='val_acc',\n",
        "                                            patience=2,\n",
        "                                            factor=0.5,\n",
        "                                            min_lr=0.000001)"
      ],
      "execution_count": 8,
      "outputs": []
    },
    {
      "cell_type": "code",
      "metadata": {
        "id": "HluDWeNA1lda",
        "outputId": "335ff2e9-01ac-4b24-9bdd-10c2628cb010",
        "colab": {
          "base_uri": "https://localhost:8080/",
          "height": 867
        }
      },
      "source": [
        "model.compile(loss = 'categorical_crossentropy', optimizer= tf.keras.optimizers.Adam(), metrics=['acc'])\n",
        "\n",
        "history = model.fit(train_generator,\n",
        "                    epochs = 25,\n",
        "                   validation_data = validation_generator,\n",
        "                   callbacks=[learning_rate_reduction])"
      ],
      "execution_count": 9,
      "outputs": [
        {
          "output_type": "stream",
          "text": [
            "Epoch 1/25\n",
            "55/55 [==============================] - 5s 99ms/step - loss: 0.1222 - acc: 0.9566 - val_loss: 0.0188 - val_acc: 0.9931\n",
            "Epoch 2/25\n",
            "55/55 [==============================] - 5s 95ms/step - loss: 0.1027 - acc: 0.9686 - val_loss: 0.0129 - val_acc: 0.9954\n",
            "Epoch 3/25\n",
            "55/55 [==============================] - 5s 95ms/step - loss: 0.0755 - acc: 0.9817 - val_loss: 0.0100 - val_acc: 0.9954\n",
            "Epoch 4/25\n",
            "55/55 [==============================] - 5s 96ms/step - loss: 0.0855 - acc: 0.9777 - val_loss: 0.1526 - val_acc: 0.9497\n",
            "Epoch 5/25\n",
            "55/55 [==============================] - 5s 96ms/step - loss: 0.0563 - acc: 0.9817 - val_loss: 0.0103 - val_acc: 0.9954\n",
            "Epoch 6/25\n",
            "55/55 [==============================] - 5s 96ms/step - loss: 0.0632 - acc: 0.9852 - val_loss: 0.0093 - val_acc: 0.9977\n",
            "Epoch 7/25\n",
            "55/55 [==============================] - 5s 96ms/step - loss: 0.0582 - acc: 0.9863 - val_loss: 0.0367 - val_acc: 0.9931\n",
            "Epoch 8/25\n",
            "55/55 [==============================] - 5s 96ms/step - loss: 0.0725 - acc: 0.9777 - val_loss: 0.0099 - val_acc: 1.0000\n",
            "Epoch 9/25\n",
            "55/55 [==============================] - 5s 96ms/step - loss: 0.0449 - acc: 0.9857 - val_loss: 0.0056 - val_acc: 0.9977\n",
            "Epoch 10/25\n",
            "55/55 [==============================] - 5s 97ms/step - loss: 0.0426 - acc: 0.9874 - val_loss: 0.0025 - val_acc: 1.0000\n",
            "Epoch 11/25\n",
            "55/55 [==============================] - 5s 97ms/step - loss: 0.0361 - acc: 0.9886 - val_loss: 0.0032 - val_acc: 1.0000\n",
            "Epoch 12/25\n",
            "55/55 [==============================] - 5s 96ms/step - loss: 0.0422 - acc: 0.9857 - val_loss: 0.0065 - val_acc: 0.9977\n",
            "Epoch 13/25\n",
            "55/55 [==============================] - 5s 96ms/step - loss: 0.0497 - acc: 0.9886 - val_loss: 0.0041 - val_acc: 0.9977\n",
            "Epoch 14/25\n",
            "55/55 [==============================] - 5s 96ms/step - loss: 0.0248 - acc: 0.9920 - val_loss: 0.0045 - val_acc: 0.9977\n",
            "Epoch 15/25\n",
            "55/55 [==============================] - 5s 96ms/step - loss: 0.0286 - acc: 0.9909 - val_loss: 0.0052 - val_acc: 0.9977\n",
            "Epoch 16/25\n",
            "55/55 [==============================] - 5s 96ms/step - loss: 0.0340 - acc: 0.9886 - val_loss: 0.0044 - val_acc: 0.9977\n",
            "Epoch 17/25\n",
            "55/55 [==============================] - 5s 96ms/step - loss: 0.0291 - acc: 0.9891 - val_loss: 0.0051 - val_acc: 0.9977\n",
            "Epoch 18/25\n",
            "55/55 [==============================] - 5s 96ms/step - loss: 0.0399 - acc: 0.9891 - val_loss: 0.0049 - val_acc: 0.9977\n",
            "Epoch 19/25\n",
            "55/55 [==============================] - 5s 96ms/step - loss: 0.0280 - acc: 0.9897 - val_loss: 0.0047 - val_acc: 0.9977\n",
            "Epoch 20/25\n",
            "55/55 [==============================] - 5s 96ms/step - loss: 0.0372 - acc: 0.9891 - val_loss: 0.0038 - val_acc: 1.0000\n",
            "Epoch 21/25\n",
            "55/55 [==============================] - 5s 97ms/step - loss: 0.0337 - acc: 0.9886 - val_loss: 0.0042 - val_acc: 0.9977\n",
            "Epoch 22/25\n",
            "55/55 [==============================] - 5s 95ms/step - loss: 0.0243 - acc: 0.9937 - val_loss: 0.0043 - val_acc: 0.9977\n",
            "Epoch 23/25\n",
            "55/55 [==============================] - 5s 96ms/step - loss: 0.0219 - acc: 0.9943 - val_loss: 0.0044 - val_acc: 0.9977\n",
            "Epoch 24/25\n",
            "55/55 [==============================] - 5s 96ms/step - loss: 0.0261 - acc: 0.9903 - val_loss: 0.0041 - val_acc: 0.9977\n",
            "Epoch 25/25\n",
            "55/55 [==============================] - 5s 96ms/step - loss: 0.0212 - acc: 0.9926 - val_loss: 0.0041 - val_acc: 0.9977\n"
          ],
          "name": "stdout"
        }
      ]
    },
    {
      "cell_type": "code",
      "metadata": {
        "id": "6ehVqfjx31ib",
        "outputId": "89d4d357-9565-4b1c-ab7e-ec248aae6289",
        "colab": {
          "base_uri": "https://localhost:8080/",
          "height": 562
        }
      },
      "source": [
        "acc      = history.history['acc']\n",
        "val_acc  = history.history['val_acc']\n",
        "loss     = history.history['loss']\n",
        "val_loss = history.history['val_loss']\n",
        "## Training and Validation Accuracy\n",
        "epochs   = range(len(acc))\n",
        "plt.plot  (epochs, acc)\n",
        "plt.plot  (epochs, val_acc)\n",
        "plt.title ('Training and validation accuracy')\n",
        "plt.figure()\n",
        "## Training and Validation loss\n",
        "plt.plot  (epochs, loss)\n",
        "plt.plot  (epochs, val_loss)\n",
        "plt.title ('Training and validation loss')"
      ],
      "execution_count": 10,
      "outputs": [
        {
          "output_type": "execute_result",
          "data": {
            "text/plain": [
              "Text(0.5, 1.0, 'Training and validation loss')"
            ]
          },
          "metadata": {
            "tags": []
          },
          "execution_count": 10
        },
        {
          "output_type": "display_data",
          "data": {
            "image/png": "[encoded data removed]",
            "text/plain": [
              "<Figure size 432x288 with 1 Axes>"
            ]
          },
          "metadata": {
            "tags": [],
            "needs_background": "light"
          }
        },
        {
          "output_type": "display_data",
          "data": {
            "image/png": "[encoded data removed]",
            "text/plain": [
              "<Figure size 432x288 with 1 Axes>"
            ]
          },
          "metadata": {
            "tags": [],
            "needs_background": "light"
          }
        }
      ]
    },
    {
      "cell_type": "markdown",
      "metadata": {
        "id": "RsaHX6X84w2U"
      },
      "source": [
        "Let us now use the ResNet-34 model architecture on this problem"
      ]
    },
    {
      "cell_type": "markdown",
      "metadata": {
        "id": "qptD-W5L5CvV"
      },
      "source": [
        "# ResNet-34"
      ]
    },
    {
      "cell_type": "code",
      "metadata": {
        "id": "NWhmCJdI4k-h"
      },
      "source": [
        "import tensorflow as tf\n",
        "tf.keras.backend.clear_session()\n",
        "tf.random.set_seed(42)"
      ],
      "execution_count": 11,
      "outputs": []
    },
    {
      "cell_type": "code",
      "metadata": {
        "id": "1yhku1KE5mzd"
      },
      "source": [
        "from functools import partial\n",
        "DefaultConv2D = partial(keras.layers.Conv2D, kernel_size=3, strides=1,\n",
        "                        padding=\"SAME\", use_bias=False)\n",
        "\n",
        "class ResidualUnit(keras.layers.Layer):\n",
        "    def __init__(self, filters, strides=1, activation=\"relu\", **kwargs):\n",
        "        super().__init__(**kwargs)\n",
        "        self.activation = keras.activations.get(activation)\n",
        "        self.main_layers = [\n",
        "            DefaultConv2D(filters, strides=strides),\n",
        "            keras.layers.BatchNormalization(),\n",
        "            self.activation,\n",
        "            DefaultConv2D(filters),\n",
        "            keras.layers.BatchNormalization()]\n",
        "        self.skip_layers = []\n",
        "        if strides > 1:\n",
        "            self.skip_layers = [\n",
        "                DefaultConv2D(filters, kernel_size=1, strides=strides),\n",
        "                keras.layers.BatchNormalization()]\n",
        "\n",
        "    def call(self, inputs):\n",
        "        Z = inputs\n",
        "        for layer in self.main_layers:\n",
        "            Z = layer(Z)\n",
        "        skip_Z = inputs\n",
        "        for layer in self.skip_layers:\n",
        "            skip_Z = layer(skip_Z)\n",
        "        return self.activation(Z + skip_Z)"
      ],
      "execution_count": 12,
      "outputs": []
    },
    {
      "cell_type": "code",
      "metadata": {
        "id": "eS3n1BsP85v5",
        "outputId": "77f05990-3fa3-45b0-b367-329a4a0b8133",
        "colab": {
          "base_uri": "https://localhost:8080/",
          "height": 1000
        }
      },
      "source": [
        "keras.backend.clear_session()\n",
        "tf.random.set_seed(42)\n",
        "np.random.seed(42)\n",
        "\n",
        "model = keras.models.Sequential()\n",
        "model.add(DefaultConv2D(64, kernel_size=7, strides=2,\n",
        "                        input_shape=[60, 40, 3]))\n",
        "model.add(keras.layers.BatchNormalization())\n",
        "model.add(keras.layers.Activation(\"relu\"))\n",
        "model.add(keras.layers.MaxPool2D(pool_size=3, strides=2, padding=\"SAME\"))\n",
        "prev_filters = 64\n",
        "for filters in [64] * 2 + [128] * 2 + [256] * 2 + [512] * 2:\n",
        "    strides = 1 if filters == prev_filters else 2\n",
        "    model.add(ResidualUnit(filters, strides=strides))\n",
        "    prev_filters = filters\n",
        "model.add(keras.layers.GlobalAvgPool2D())\n",
        "model.add(keras.layers.Flatten())\n",
        "model.add(keras.layers.Dense(3, activation=\"softmax\"))\n",
        "\n",
        "model.summary()\n",
        "\n",
        "model.compile(loss=\"categorical_crossentropy\", optimizer=\"adam\",\n",
        "              metrics=[\"accuracy\"])\n",
        "\n",
        "history = model.fit(train_generator, epochs=20, validation_data=validation_generator)\n",
        "## Plotting the performance of the model ####\n",
        "\n",
        "acc      = history.history['accuracy']\n",
        "val_acc  = history.history['val_accuracy']\n",
        "loss     = history.history['loss']\n",
        "val_loss = history.history['val_loss']\n",
        "## Training and Validation Accuracy\n",
        "epochs   = range(len(acc))\n",
        "plt.plot  (epochs, acc)\n",
        "plt.plot  (epochs, val_acc)\n",
        "plt.title ('Training and validation accuracy')\n",
        "plt.figure()\n",
        "## Training and Validation loss\n",
        "plt.plot  (epochs, loss)\n",
        "plt.plot  (epochs, val_loss)\n",
        "plt.title ('Training and validation loss')"
      ],
      "execution_count": 13,
      "outputs": [
        {
          "output_type": "stream",
          "text": [
            "Model: \"sequential\"\n",
            "_________________________________________________________________\n",
            "Layer (type)                 Output Shape              Param #   \n",
            "=================================================================\n",
            "conv2d (Conv2D)              (None, 30, 20, 64)        9408      \n",
            "_________________________________________________________________\n",
            "batch_normalization (BatchNo (None, 30, 20, 64)        256       \n",
            "_________________________________________________________________\n",
            "activation (Activation)      (None, 30, 20, 64)        0         \n",
            "_________________________________________________________________\n",
            "max_pooling2d (MaxPooling2D) (None, 15, 10, 64)        0         \n",
            "_________________________________________________________________\n",
            "residual_unit (ResidualUnit) (None, 15, 10, 64)        74240     \n",
            "_________________________________________________________________\n",
            "residual_unit_1 (ResidualUni (None, 15, 10, 64)        74240     \n",
            "_________________________________________________________________\n",
            "residual_unit_2 (ResidualUni (None, 8, 5, 128)         230912    \n",
            "_________________________________________________________________\n",
            "residual_unit_3 (ResidualUni (None, 8, 5, 128)         295936    \n",
            "_________________________________________________________________\n",
            "residual_unit_4 (ResidualUni (None, 4, 3, 256)         920576    \n",
            "_________________________________________________________________\n",
            "residual_unit_5 (ResidualUni (None, 4, 3, 256)         1181696   \n",
            "_________________________________________________________________\n",
            "residual_unit_6 (ResidualUni (None, 2, 2, 512)         3676160   \n",
            "_________________________________________________________________\n",
            "residual_unit_7 (ResidualUni (None, 2, 2, 512)         4722688   \n",
            "_________________________________________________________________\n",
            "global_average_pooling2d (Gl (None, 512)               0         \n",
            "_________________________________________________________________\n",
            "flatten (Flatten)            (None, 512)               0         \n",
            "_________________________________________________________________\n",
            "dense (Dense)                (None, 3)                 1539      \n",
            "=================================================================\n",
            "Total params: 11,187,651\n",
            "Trainable params: 11,178,051\n",
            "Non-trainable params: 9,600\n",
            "_________________________________________________________________\n",
            "Epoch 1/20\n",
            "55/55 [==============================] - 6s 108ms/step - loss: 0.7683 - accuracy: 0.7053 - val_loss: 2.3785 - val_accuracy: 0.3249\n",
            "Epoch 2/20\n",
            "55/55 [==============================] - 6s 101ms/step - loss: 0.2166 - accuracy: 0.9269 - val_loss: 2.3471 - val_accuracy: 0.3455\n",
            "Epoch 3/20\n",
            "55/55 [==============================] - 6s 102ms/step - loss: 0.2228 - accuracy: 0.9269 - val_loss: 3.4766 - val_accuracy: 0.3318\n",
            "Epoch 4/20\n",
            "55/55 [==============================] - 6s 102ms/step - loss: 0.1672 - accuracy: 0.9463 - val_loss: 3.3177 - val_accuracy: 0.3318\n",
            "Epoch 5/20\n",
            "55/55 [==============================] - 6s 101ms/step - loss: 0.1125 - accuracy: 0.9634 - val_loss: 2.0332 - val_accuracy: 0.3318\n",
            "Epoch 6/20\n",
            "55/55 [==============================] - 6s 102ms/step - loss: 0.1028 - accuracy: 0.9680 - val_loss: 3.1186 - val_accuracy: 0.3318\n",
            "Epoch 7/20\n",
            "55/55 [==============================] - 6s 102ms/step - loss: 0.0747 - accuracy: 0.9772 - val_loss: 2.3040 - val_accuracy: 0.6064\n",
            "Epoch 8/20\n",
            "55/55 [==============================] - 6s 101ms/step - loss: 0.1225 - accuracy: 0.9612 - val_loss: 2.1697 - val_accuracy: 0.6064\n",
            "Epoch 9/20\n",
            "55/55 [==============================] - 6s 101ms/step - loss: 0.0749 - accuracy: 0.9789 - val_loss: 1.8429 - val_accuracy: 0.6728\n",
            "Epoch 10/20\n",
            "55/55 [==============================] - 6s 100ms/step - loss: 0.0834 - accuracy: 0.9772 - val_loss: 0.3168 - val_accuracy: 0.8719\n",
            "Epoch 11/20\n",
            "55/55 [==============================] - 6s 101ms/step - loss: 0.0788 - accuracy: 0.9800 - val_loss: 2.2712 - val_accuracy: 0.6865\n",
            "Epoch 12/20\n",
            "55/55 [==============================] - 6s 101ms/step - loss: 0.0724 - accuracy: 0.9737 - val_loss: 0.5868 - val_accuracy: 0.7849\n",
            "Epoch 13/20\n",
            "55/55 [==============================] - 6s 102ms/step - loss: 0.0639 - accuracy: 0.9812 - val_loss: 2.7476 - val_accuracy: 0.5240\n",
            "Epoch 14/20\n",
            "55/55 [==============================] - 6s 101ms/step - loss: 0.0806 - accuracy: 0.9714 - val_loss: 0.1187 - val_accuracy: 0.9725\n",
            "Epoch 15/20\n",
            "55/55 [==============================] - 6s 100ms/step - loss: 0.0645 - accuracy: 0.9800 - val_loss: 0.4654 - val_accuracy: 0.8398\n",
            "Epoch 16/20\n",
            "55/55 [==============================] - 6s 101ms/step - loss: 0.0671 - accuracy: 0.9789 - val_loss: 0.0315 - val_accuracy: 0.9931\n",
            "Epoch 17/20\n",
            "55/55 [==============================] - 6s 102ms/step - loss: 0.0492 - accuracy: 0.9846 - val_loss: 1.1680 - val_accuracy: 0.7780\n",
            "Epoch 18/20\n",
            "55/55 [==============================] - 6s 102ms/step - loss: 0.0884 - accuracy: 0.9714 - val_loss: 1.1210 - val_accuracy: 0.7185\n",
            "Epoch 19/20\n",
            "55/55 [==============================] - 6s 102ms/step - loss: 0.0569 - accuracy: 0.9789 - val_loss: 4.4411 - val_accuracy: 0.6705\n",
            "Epoch 20/20\n",
            "55/55 [==============================] - 6s 101ms/step - loss: 0.0794 - accuracy: 0.9749 - val_loss: 0.6129 - val_accuracy: 0.8764\n"
          ],
          "name": "stdout"
        },
        {
          "output_type": "execute_result",
          "data": {
            "text/plain": [
              "Text(0.5, 1.0, 'Training and validation loss')"
            ]
          },
          "metadata": {
            "tags": []
          },
          "execution_count": 13
        },
        {
          "output_type": "display_data",
          "data": {
            "image/png": "[encoded data removed]",
            "text/plain": [
              "<Figure size 432x288 with 1 Axes>"
            ]
          },
          "metadata": {
            "tags": [],
            "needs_background": "light"
          }
        },
        {
          "output_type": "display_data",
          "data": {
            "image/png": "[encoded data removed]",
            "text/plain": [
              "<Figure size 432x288 with 1 Axes>"
            ]
          },
          "metadata": {
            "tags": [],
            "needs_background": "light"
          }
        }
      ]
    },
    {
      "cell_type": "markdown",
      "metadata": {
        "id": "q6LbnYYO_723"
      },
      "source": [
        "let us add performance scheduling"
      ]
    },
    {
      "cell_type": "code",
      "metadata": {
        "id": "VRRT3stp-lJh"
      },
      "source": [
        "learning_rate_reduction = tf.keras.callbacks.ReduceLROnPlateau(monitor='val_accuracy',\n",
        "                                            patience=2,\n",
        "                                            factor=0.5,\n",
        "                                            min_lr=0.000001)"
      ],
      "execution_count": 14,
      "outputs": []
    },
    {
      "cell_type": "code",
      "metadata": {
        "id": "rC_iW22DAApk",
        "outputId": "52c7ddb9-ae6d-494a-d24c-42101b72df3b",
        "colab": {
          "base_uri": "https://localhost:8080/",
          "height": 1000
        }
      },
      "source": [
        "model.compile(loss=\"categorical_crossentropy\", optimizer=\"adam\",\n",
        "              metrics=[\"accuracy\"])\n",
        "\n",
        "history = model.fit(train_generator, epochs=25, validation_data=validation_generator, callbacks=[learning_rate_reduction])\n",
        "## Plotting the performance of the model ####\n",
        "\n",
        "acc      = history.history['accuracy']\n",
        "val_acc  = history.history['val_accuracy']\n",
        "loss     = history.history['loss']\n",
        "val_loss = history.history['val_loss']\n",
        "## Training and Validation Accuracy\n",
        "epochs   = range(len(acc))\n",
        "plt.plot  (epochs, acc)\n",
        "plt.plot  (epochs, val_acc)\n",
        "plt.title ('Training and validation accuracy')\n",
        "plt.figure()\n",
        "## Training and Validation loss\n",
        "plt.plot  (epochs, loss)\n",
        "plt.plot  (epochs, val_loss)\n",
        "plt.title ('Training and validation loss')"
      ],
      "execution_count": 15,
      "outputs": [
        {
          "output_type": "stream",
          "text": [
            "Epoch 1/25\n",
            "55/55 [==============================] - 6s 107ms/step - loss: 0.1693 - accuracy: 0.9555 - val_loss: 1.0096 - val_accuracy: 0.7162\n",
            "Epoch 2/25\n",
            "55/55 [==============================] - 6s 101ms/step - loss: 0.1235 - accuracy: 0.9634 - val_loss: 1.0983 - val_accuracy: 0.8146\n",
            "Epoch 3/25\n",
            "55/55 [==============================] - 6s 101ms/step - loss: 0.0708 - accuracy: 0.9766 - val_loss: 43.7351 - val_accuracy: 0.3318\n",
            "Epoch 4/25\n",
            "55/55 [==============================] - 6s 103ms/step - loss: 0.0791 - accuracy: 0.9754 - val_loss: 4.8629 - val_accuracy: 0.6407\n",
            "Epoch 5/25\n",
            "55/55 [==============================] - 6s 102ms/step - loss: 0.0321 - accuracy: 0.9880 - val_loss: 0.7129 - val_accuracy: 0.8238\n",
            "Epoch 6/25\n",
            "55/55 [==============================] - 6s 101ms/step - loss: 0.0530 - accuracy: 0.9823 - val_loss: 0.5176 - val_accuracy: 0.8764\n",
            "Epoch 7/25\n",
            "55/55 [==============================] - 6s 101ms/step - loss: 0.0349 - accuracy: 0.9903 - val_loss: 0.6357 - val_accuracy: 0.8215\n",
            "Epoch 8/25\n",
            "55/55 [==============================] - 6s 102ms/step - loss: 0.0344 - accuracy: 0.9897 - val_loss: 0.0246 - val_accuracy: 0.9908\n",
            "Epoch 9/25\n",
            "55/55 [==============================] - 6s 103ms/step - loss: 0.0291 - accuracy: 0.9891 - val_loss: 0.2173 - val_accuracy: 0.9565\n",
            "Epoch 10/25\n",
            "55/55 [==============================] - 6s 101ms/step - loss: 0.0293 - accuracy: 0.9926 - val_loss: 5.7325 - val_accuracy: 0.4027\n",
            "Epoch 11/25\n",
            "55/55 [==============================] - 6s 101ms/step - loss: 0.0316 - accuracy: 0.9903 - val_loss: 0.1670 - val_accuracy: 0.9428\n",
            "Epoch 12/25\n",
            "55/55 [==============================] - 6s 101ms/step - loss: 0.0205 - accuracy: 0.9943 - val_loss: 0.0210 - val_accuracy: 0.9954\n",
            "Epoch 13/25\n",
            "55/55 [==============================] - 6s 101ms/step - loss: 0.0175 - accuracy: 0.9926 - val_loss: 0.0088 - val_accuracy: 0.9977\n",
            "Epoch 14/25\n",
            "55/55 [==============================] - 6s 101ms/step - loss: 0.0154 - accuracy: 0.9966 - val_loss: 0.0046 - val_accuracy: 0.9977\n",
            "Epoch 15/25\n",
            "55/55 [==============================] - 6s 101ms/step - loss: 0.0139 - accuracy: 0.9943 - val_loss: 0.2855 - val_accuracy: 0.9245\n",
            "Epoch 16/25\n",
            "55/55 [==============================] - 6s 101ms/step - loss: 0.0181 - accuracy: 0.9931 - val_loss: 0.0024 - val_accuracy: 1.0000\n",
            "Epoch 17/25\n",
            "55/55 [==============================] - 6s 102ms/step - loss: 0.0042 - accuracy: 0.9994 - val_loss: 0.0159 - val_accuracy: 0.9931\n",
            "Epoch 18/25\n",
            "55/55 [==============================] - 6s 100ms/step - loss: 0.0102 - accuracy: 0.9966 - val_loss: 0.0082 - val_accuracy: 0.9954\n",
            "Epoch 19/25\n",
            "55/55 [==============================] - 6s 102ms/step - loss: 0.0095 - accuracy: 0.9960 - val_loss: 0.0272 - val_accuracy: 0.9931\n",
            "Epoch 20/25\n",
            "55/55 [==============================] - 6s 102ms/step - loss: 0.0176 - accuracy: 0.9966 - val_loss: 0.0137 - val_accuracy: 0.9931\n",
            "Epoch 21/25\n",
            "55/55 [==============================] - 6s 102ms/step - loss: 0.0087 - accuracy: 0.9966 - val_loss: 0.0035 - val_accuracy: 0.9977\n",
            "Epoch 22/25\n",
            "55/55 [==============================] - 6s 101ms/step - loss: 0.0132 - accuracy: 0.9960 - val_loss: 0.0051 - val_accuracy: 0.9977\n",
            "Epoch 23/25\n",
            "55/55 [==============================] - 6s 103ms/step - loss: 0.0119 - accuracy: 0.9954 - val_loss: 0.0036 - val_accuracy: 0.9977\n",
            "Epoch 24/25\n",
            "55/55 [==============================] - 6s 103ms/step - loss: 0.0113 - accuracy: 0.9966 - val_loss: 0.0037 - val_accuracy: 0.9977\n",
            "Epoch 25/25\n",
            "55/55 [==============================] - 6s 103ms/step - loss: 0.0112 - accuracy: 0.9971 - val_loss: 0.0041 - val_accuracy: 0.9954\n"
          ],
          "name": "stdout"
        },
        {
          "output_type": "execute_result",
          "data": {
            "text/plain": [
              "Text(0.5, 1.0, 'Training and validation loss')"
            ]
          },
          "metadata": {
            "tags": []
          },
          "execution_count": 15
        },
        {
          "output_type": "display_data",
          "data": {
            "image/png": "[encoded data removed]",
            "text/plain": [
              "<Figure size 432x288 with 1 Axes>"
            ]
          },
          "metadata": {
            "tags": [],
            "needs_background": "light"
          }
        },
        {
          "output_type": "display_data",
          "data": {
            "image/png": "[encoded data removed]",
            "text/plain": [
              "<Figure size 432x288 with 1 Axes>"
            ]
          },
          "metadata": {
            "tags": [],
            "needs_background": "light"
          }
        }
      ]
    },
    {
      "cell_type": "code",
      "metadata": {
        "id": "ffnLVa2eIInG"
      },
      "source": [
        "import os, signal\n",
        "os.kill(os.getpid(), signal.SIGKILL)"
      ],
      "execution_count": null,
      "outputs": []
    }
  ]
}